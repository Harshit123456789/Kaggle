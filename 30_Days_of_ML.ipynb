{
 "cells": [
  {
   "cell_type": "code",
   "execution_count": 1,
   "id": "53603b14",
   "metadata": {
    "execution": {
     "iopub.execute_input": "2021-08-28T08:07:09.323874Z",
     "iopub.status.busy": "2021-08-28T08:07:09.322045Z",
     "iopub.status.idle": "2021-08-28T08:07:10.709994Z",
     "shell.execute_reply": "2021-08-28T08:07:10.708862Z",
     "shell.execute_reply.started": "2021-08-28T08:04:42.325468Z"
    },
    "papermill": {
     "duration": 1.409281,
     "end_time": "2021-08-28T08:07:10.710236",
     "exception": false,
     "start_time": "2021-08-28T08:07:09.300955",
     "status": "completed"
    },
    "tags": []
   },
   "outputs": [],
   "source": [
    "import os\n",
    "import warnings\n",
    "from pathlib import Path\n",
    "\n",
    "import matplotlib.pyplot as plt\n",
    "import numpy as np\n",
    "import pandas as pd\n",
    "import seaborn as sns\n",
    "from IPython.display import display\n",
    "from pandas.api.types import CategoricalDtype\n",
    "\n",
    "from sklearn.model_selection import KFold\n",
    "from sklearn.preprocessing import OrdinalEncoder    \n",
    "from sklearn.metrics import mean_squared_error\n",
    "from sklearn.model_selection import train_test_split\n",
    "import xgboost as xgb\n",
    "\n",
    "# Set Matplotlib defaults\n",
    "plt.style.use(\"seaborn-whitegrid\")\n",
    "plt.rc(\"figure\", autolayout=True)\n",
    "plt.rc(\n",
    "    \"axes\",\n",
    "    labelweight=\"bold\",\n",
    "    labelsize=\"large\",\n",
    "    titleweight=\"bold\",\n",
    "    titlesize=14,\n",
    "    titlepad=10,\n",
    ")\n",
    "\n",
    "# Mute warnings\n",
    "warnings.filterwarnings('ignore')"
   ]
  },
  {
   "cell_type": "code",
   "execution_count": 2,
   "id": "085492e1",
   "metadata": {
    "execution": {
     "iopub.execute_input": "2021-08-28T08:07:10.755604Z",
     "iopub.status.busy": "2021-08-28T08:07:10.754763Z",
     "iopub.status.idle": "2021-08-28T08:07:10.762339Z",
     "shell.execute_reply": "2021-08-28T08:07:10.761389Z",
     "shell.execute_reply.started": "2021-08-28T08:05:36.494408Z"
    },
    "papermill": {
     "duration": 0.031167,
     "end_time": "2021-08-28T08:07:10.762586",
     "exception": false,
     "start_time": "2021-08-28T08:07:10.731419",
     "status": "completed"
    },
    "tags": []
   },
   "outputs": [
    {
     "name": "stdout",
     "output_type": "stream",
     "text": [
      "/kaggle/input/30-days-of-ml/sample_submission.csv\n",
      "/kaggle/input/30-days-of-ml/train.csv\n",
      "/kaggle/input/30-days-of-ml/test.csv\n"
     ]
    }
   ],
   "source": [
    "import os\n",
    "for dirname, _, filenames in os.walk('/kaggle/input'):\n",
    "    for filename in filenames:\n",
    "        print(os.path.join(dirname, filename))"
   ]
  },
  {
   "cell_type": "code",
   "execution_count": 3,
   "id": "0f8e7295",
   "metadata": {
    "execution": {
     "iopub.execute_input": "2021-08-28T08:07:10.797735Z",
     "iopub.status.busy": "2021-08-28T08:07:10.794013Z",
     "iopub.status.idle": "2021-08-28T08:07:15.594988Z",
     "shell.execute_reply": "2021-08-28T08:07:15.594039Z",
     "shell.execute_reply.started": "2021-08-28T08:05:39.207119Z"
    },
    "papermill": {
     "duration": 4.817727,
     "end_time": "2021-08-28T08:07:15.595214",
     "exception": false,
     "start_time": "2021-08-28T08:07:10.777487",
     "status": "completed"
    },
    "tags": []
   },
   "outputs": [],
   "source": [
    "# Loading the Data into Dataframes\n",
    "X_train = pd.read_csv(\"/kaggle/input/30-days-of-ml/train.csv\", index_col=\"id\")\n",
    "X_test = pd.read_csv(\"/kaggle/input/30-days-of-ml/test.csv\", index_col=\"id\")\n",
    "\n",
    "# Remove rows with missing target, separate target from predictors\n",
    "X_train.dropna(axis=0, subset=['target'], inplace=True)"
   ]
  },
  {
   "cell_type": "code",
   "execution_count": 4,
   "id": "d3378a3e",
   "metadata": {
    "execution": {
     "iopub.execute_input": "2021-08-28T08:07:15.630770Z",
     "iopub.status.busy": "2021-08-28T08:07:15.629922Z",
     "iopub.status.idle": "2021-08-28T08:07:19.612470Z",
     "shell.execute_reply": "2021-08-28T08:07:19.611752Z",
     "shell.execute_reply.started": "2021-08-28T08:05:45.519557Z"
    },
    "papermill": {
     "duration": 4.003575,
     "end_time": "2021-08-28T08:07:19.612670",
     "exception": false,
     "start_time": "2021-08-28T08:07:15.609095",
     "status": "completed"
    },
    "tags": []
   },
   "outputs": [],
   "source": [
    "# Listing out the categorical columns of the data\n",
    "categorical_columns = ['cat0', 'cat1', 'cat2', 'cat3', 'cat4', 'cat5', 'cat6', 'cat7', 'cat8','cat9']\n",
    "\n",
    "# Encoding the categorical columns of the training and the test data using the fucntion encode_cat_columns\n",
    "encoder = OrdinalEncoder()\n",
    "X_train[categorical_columns] = encoder.fit_transform(X_train[categorical_columns])\n",
    "X_test[categorical_columns] = encoder.transform(X_test[categorical_columns])"
   ]
  },
  {
   "cell_type": "code",
   "execution_count": 5,
   "id": "e6444300",
   "metadata": {
    "execution": {
     "iopub.execute_input": "2021-08-28T08:07:19.645023Z",
     "iopub.status.busy": "2021-08-28T08:07:19.643917Z",
     "iopub.status.idle": "2021-08-28T08:07:19.668094Z",
     "shell.execute_reply": "2021-08-28T08:07:19.667029Z",
     "shell.execute_reply.started": "2021-08-28T08:05:48.031709Z"
    },
    "papermill": {
     "duration": 0.042104,
     "end_time": "2021-08-28T08:07:19.668367",
     "exception": false,
     "start_time": "2021-08-28T08:07:19.626263",
     "status": "completed"
    },
    "tags": []
   },
   "outputs": [
    {
     "name": "stdout",
     "output_type": "stream",
     "text": [
      "Series([], dtype: int64)\n"
     ]
    }
   ],
   "source": [
    "# Number of missing values in each column of training data\n",
    "missing_val_count_by_column = (X_train.isnull().sum())\n",
    "print(missing_val_count_by_column[missing_val_count_by_column > 0])"
   ]
  },
  {
   "cell_type": "code",
   "execution_count": 6,
   "id": "8902497a",
   "metadata": {
    "execution": {
     "iopub.execute_input": "2021-08-28T08:07:19.708490Z",
     "iopub.status.busy": "2021-08-28T08:07:19.707554Z",
     "iopub.status.idle": "2021-08-28T13:13:23.035959Z",
     "shell.execute_reply": "2021-08-28T13:13:23.036622Z"
    },
    "papermill": {
     "duration": 18363.354541,
     "end_time": "2021-08-28T13:13:23.037050",
     "exception": false,
     "start_time": "2021-08-28T08:07:19.682509",
     "status": "completed"
    },
    "tags": []
   },
   "outputs": [
    {
     "name": "stdout",
     "output_type": "stream",
     "text": [
      "[     1      2      3 ... 299997 299998 299999] [     0     16     22 ... 299962 299973 299983]\n",
      "validation error  0.7164173827766601\n",
      "training error  0.7054335100477276\n",
      "--------------------\n",
      "[     0      1      2 ... 299997 299998 299999] [     6     11     12 ... 299946 299957 299992]\n",
      "validation error  0.7159051980757563\n",
      "training error  0.706226054218701\n",
      "--------------------\n",
      "[     0      1      2 ... 299996 299997 299998] [     4     10     31 ... 299945 299970 299999]\n",
      "validation error  0.7153785847848396\n",
      "training error  0.7074827122460118\n",
      "--------------------\n",
      "[     0      1      2 ... 299996 299998 299999] [    38     39     46 ... 299928 299982 299997]\n",
      "validation error  0.7174136034372304\n",
      "training error  0.7057557135833066\n",
      "--------------------\n",
      "[     0      2      3 ... 299997 299998 299999] [     1      9     20 ... 299986 299988 299991]\n",
      "validation error  0.7216183651325462\n",
      "training error  0.7045652790443777\n",
      "--------------------\n",
      "[     0      1      2 ... 299997 299998 299999] [    23     29     42 ... 299960 299972 299987]\n",
      "validation error  0.7147819562709559\n",
      "training error  0.7069379486814068\n",
      "--------------------\n",
      "[     0      1      2 ... 299996 299997 299999] [     3     21     48 ... 299980 299994 299998]\n",
      "validation error  0.7174678946983891\n",
      "training error  0.7053944027854654\n",
      "--------------------\n",
      "[     0      1      2 ... 299997 299998 299999] [     7      8     14 ... 299985 299989 299996]\n",
      "validation error  0.7182383663688268\n",
      "training error  0.7057395219578851\n",
      "--------------------\n",
      "[     0      1      3 ... 299997 299998 299999] [     2     13     19 ... 299952 299953 299971]\n",
      "validation error  0.719800362595754\n",
      "training error  0.7048132775021497\n",
      "--------------------\n",
      "[     0      1      2 ... 299997 299998 299999] [     5     15     18 ... 299990 299993 299995]\n",
      "validation error  0.7128070178231452\n",
      "training error  0.7065019026101768\n",
      "--------------------\n"
     ]
    }
   ],
   "source": [
    "# parameters =  {\n",
    "#                 'n_estimators' : 10000,\n",
    "#                 'lambda': 0.002614400059630947, \n",
    "#                 'alpha': 13.146201819473635, \n",
    "#                 'colsample_bytree': 0.3,\n",
    "#                 'subsample': 0.8, \n",
    "#                 'learning_rate': 0.018, \n",
    "#                 'max_depth': 3, \n",
    "#                 'min_child_weight': 62,\n",
    "#                 'tree_method' : 'gpu_hist'\n",
    "#               }\n",
    "# model = xgb.XGBRegressor(**parameters)\n",
    "model = xgb.XGBRegressor(n_estimators=10000, learning_rate=0.025, \n",
    "                         max_depth = 3,colsample_bytree = 0.6, gamma = 0.5, \n",
    "                         subsample = 0.99, reg_alpha = 50, reg_lambda = 0.8)\n",
    "kf = KFold(n_splits=10, random_state=42, shuffle=True)\n",
    "results = []\n",
    "for train_index, test_index in kf.split(X=X_train):\n",
    "    print(train_index, test_index)\n",
    "    train = X_train.iloc[train_index]\n",
    "    test = X_train.iloc[test_index]\n",
    "    model.fit(train.drop('target', axis=1), train['target'], early_stopping_rounds=100,\n",
    "              eval_set=[(test.drop('target', axis=1), test['target'])], verbose=False\n",
    "             )\n",
    "    test_prediction = model.predict(test.drop('target',axis=1))\n",
    "    train_prediction = model.predict(train.drop('target',axis=1))\n",
    "    print(f'validation error ',mean_squared_error(test['target'],test_prediction,squared=False))\n",
    "    print(f'training error ',mean_squared_error(train['target'],train_prediction,squared=False))\n",
    "    print(\"--------------------\")\n",
    "    fold_prediction=model.predict(X_test)\n",
    "    results.append(fold_prediction)"
   ]
  },
  {
   "cell_type": "code",
   "execution_count": 7,
   "id": "544c9f6c",
   "metadata": {
    "execution": {
     "iopub.execute_input": "2021-08-28T13:13:23.088002Z",
     "iopub.status.busy": "2021-08-28T13:13:23.087230Z",
     "iopub.status.idle": "2021-08-28T13:13:23.694013Z",
     "shell.execute_reply": "2021-08-28T13:13:23.693400Z"
    },
    "papermill": {
     "duration": 0.634855,
     "end_time": "2021-08-28T13:13:23.694216",
     "exception": false,
     "start_time": "2021-08-28T13:13:23.059361",
     "status": "completed"
    },
    "tags": []
   },
   "outputs": [],
   "source": [
    "predictions=np.mean(np.column_stack(results),axis=1)\n",
    "\n",
    "output = pd.DataFrame({'id': X_test.index,\n",
    "                       'target': predictions})\n",
    "output.to_csv('submission.csv', index=False)"
   ]
  },
  {
   "cell_type": "code",
   "execution_count": 8,
   "id": "5a7da958",
   "metadata": {
    "execution": {
     "iopub.execute_input": "2021-08-28T13:13:23.744888Z",
     "iopub.status.busy": "2021-08-28T13:13:23.744209Z",
     "iopub.status.idle": "2021-08-28T13:13:23.746493Z",
     "shell.execute_reply": "2021-08-28T13:13:23.746967Z",
     "shell.execute_reply.started": "2021-08-27T09:33:58.705573Z"
    },
    "papermill": {
     "duration": 0.030807,
     "end_time": "2021-08-28T13:13:23.747220",
     "exception": false,
     "start_time": "2021-08-28T13:13:23.716413",
     "status": "completed"
    },
    "tags": []
   },
   "outputs": [],
   "source": [
    "# from sklearn.model_selection import GridSearchCV\n",
    "# parameters =  {\n",
    "#                 'lambda': 0.002614400059630947, \n",
    "#                 'alpha': 13.146201819473635, \n",
    "#                 'colsample_bytree': 0.3,\n",
    "#                 'subsample': 0.8, \n",
    "#                 'learning_rate': 0.018, \n",
    "#                 'max_depth': 3, \n",
    "#                 'min_child_weight': 62,\n",
    "#                 'tree_method' : 'gpu_hist'\n",
    "#               }\n",
    "# # model = xgb.XGBRegressor(n_estimators=1000, learning_rate=0.3, max_depth = 3, \n",
    "# #                          colsample_bytree = 0.6, gamma = 0.5, \n",
    "# #                          reg_alpha = 50, reg_lambda = 0.4)\n",
    "# model = xgb.XGBRegressor(**parameters)\n",
    "# kf = KFold(n_splits=5, random_state=5, shuffle=True)\n",
    "# params = {\n",
    "#         'n_estimators': [5000,6000,7000,8000,9000,10000]\n",
    "#         }\n",
    "# # define search\n",
    "# search = GridSearchCV(model, \n",
    "#                       params, \n",
    "#                       scoring='neg_root_mean_squared_error', \n",
    "#                       cv=kf, \n",
    "#                       verbose=3)\n",
    "# # execute search\n",
    "# search.fit(X_train.drop('target', axis=1), X_train['target'])"
   ]
  },
  {
   "cell_type": "code",
   "execution_count": 9,
   "id": "433aa214",
   "metadata": {
    "execution": {
     "iopub.execute_input": "2021-08-28T13:13:23.790793Z",
     "iopub.status.busy": "2021-08-28T13:13:23.790021Z",
     "iopub.status.idle": "2021-08-28T13:13:23.794753Z",
     "shell.execute_reply": "2021-08-28T13:13:23.794194Z",
     "shell.execute_reply.started": "2021-08-27T09:32:05.125272Z"
    },
    "papermill": {
     "duration": 0.027643,
     "end_time": "2021-08-28T13:13:23.794910",
     "exception": false,
     "start_time": "2021-08-28T13:13:23.767267",
     "status": "completed"
    },
    "tags": []
   },
   "outputs": [],
   "source": [
    "# print('\\n Best estimator:')\n",
    "# print(search.best_estimator_)\n",
    "# print('\\n Best hyperparameters:')\n",
    "# print(search.best_params_)\n",
    "# print(search.best_score_)"
   ]
  },
  {
   "cell_type": "code",
   "execution_count": 10,
   "id": "339a0af8",
   "metadata": {
    "execution": {
     "iopub.execute_input": "2021-08-28T13:13:23.839014Z",
     "iopub.status.busy": "2021-08-28T13:13:23.838390Z",
     "iopub.status.idle": "2021-08-28T13:13:23.841904Z",
     "shell.execute_reply": "2021-08-28T13:13:23.841407Z",
     "shell.execute_reply.started": "2021-08-27T05:44:19.425713Z"
    },
    "papermill": {
     "duration": 0.027093,
     "end_time": "2021-08-28T13:13:23.842043",
     "exception": false,
     "start_time": "2021-08-28T13:13:23.814950",
     "status": "completed"
    },
    "tags": []
   },
   "outputs": [],
   "source": [
    "# Hyperparameter tuning using optuna\n",
    "# import optuna"
   ]
  },
  {
   "cell_type": "code",
   "execution_count": 11,
   "id": "5c94416f",
   "metadata": {
    "execution": {
     "iopub.execute_input": "2021-08-28T13:13:23.886848Z",
     "iopub.status.busy": "2021-08-28T13:13:23.886152Z",
     "iopub.status.idle": "2021-08-28T13:13:23.889865Z",
     "shell.execute_reply": "2021-08-28T13:13:23.890371Z",
     "shell.execute_reply.started": "2021-08-27T06:09:12.543421Z"
    },
    "papermill": {
     "duration": 0.028769,
     "end_time": "2021-08-28T13:13:23.890555",
     "exception": false,
     "start_time": "2021-08-28T13:13:23.861786",
     "status": "completed"
    },
    "tags": []
   },
   "outputs": [],
   "source": [
    "# def objective(trial,data=X_train.drop('target', axis=1),target=X_train['target']):\n",
    "    \n",
    "#     train_x, test_x, train_y, test_y = train_test_split(data, target, test_size=0.15,random_state=42)\n",
    "#     param = {\n",
    "#         'tree_method':'gpu_hist',  # this parameter means using the GPU when training our model to speedup the training process\n",
    "#         'lambda': trial.suggest_loguniform('lambda', 1e-3, 10.0),\n",
    "#         'alpha': trial.suggest_loguniform('alpha', 1e-3, 100.0),\n",
    "#         'colsample_bytree': trial.suggest_categorical('colsample_bytree', [0.3,0.4,0.5,0.6,0.7,0.8,0.9,1.0]),\n",
    "#         'subsample': trial.suggest_categorical('subsample', [0.8,0.9,1.0]),\n",
    "#         'learning_rate': trial.suggest_categorical('learning_rate', [0.01,0.012,0.014,0.016,0.018,0.02]),\n",
    "#         'n_estimators': 10000,\n",
    "#         'max_depth': trial.suggest_categorical('max_depth', [3,4,5,6]),\n",
    "#         'min_child_weight': trial.suggest_int('min_child_weight', 1, 300),\n",
    "#     }\n",
    "#     model = xgb.XGBRegressor(**param)  \n",
    "    \n",
    "#     model.fit(train_x,train_y,eval_set=[(test_x,test_y)],early_stopping_rounds=100,verbose=False)\n",
    "    \n",
    "#     preds = model.predict(test_x)\n",
    "    \n",
    "#     rmse = mean_squared_error(test_y, preds,squared=False)\n",
    "    \n",
    "#     return rmse"
   ]
  },
  {
   "cell_type": "code",
   "execution_count": 12,
   "id": "971d7f6a",
   "metadata": {
    "execution": {
     "iopub.execute_input": "2021-08-28T13:13:23.934027Z",
     "iopub.status.busy": "2021-08-28T13:13:23.933398Z",
     "iopub.status.idle": "2021-08-28T13:13:23.937215Z",
     "shell.execute_reply": "2021-08-28T13:13:23.936640Z",
     "shell.execute_reply.started": "2021-08-27T09:32:09.328984Z"
    },
    "papermill": {
     "duration": 0.027007,
     "end_time": "2021-08-28T13:13:23.937360",
     "exception": false,
     "start_time": "2021-08-28T13:13:23.910353",
     "status": "completed"
    },
    "tags": []
   },
   "outputs": [],
   "source": [
    "# study = optuna.create_study(direction='minimize')\n",
    "# study.optimize(objective, n_trials = 1000)\n",
    "# print('Number of finished trials:', len(study.trials))\n",
    "# print('Best trial:', study.best_trial.params)"
   ]
  },
  {
   "cell_type": "code",
   "execution_count": 13,
   "id": "ad31f276",
   "metadata": {
    "execution": {
     "iopub.execute_input": "2021-08-28T13:13:23.982611Z",
     "iopub.status.busy": "2021-08-28T13:13:23.981931Z",
     "iopub.status.idle": "2021-08-28T13:13:23.986163Z",
     "shell.execute_reply": "2021-08-28T13:13:23.985502Z",
     "shell.execute_reply.started": "2021-08-27T09:32:13.248497Z"
    },
    "papermill": {
     "duration": 0.02954,
     "end_time": "2021-08-28T13:13:23.986307",
     "exception": false,
     "start_time": "2021-08-28T13:13:23.956767",
     "status": "completed"
    },
    "tags": []
   },
   "outputs": [],
   "source": [
    "# print('Best trial:', study.best_trial)"
   ]
  },
  {
   "cell_type": "code",
   "execution_count": 14,
   "id": "bd94e9a9",
   "metadata": {
    "execution": {
     "iopub.execute_input": "2021-08-28T13:13:24.029838Z",
     "iopub.status.busy": "2021-08-28T13:13:24.029173Z",
     "iopub.status.idle": "2021-08-28T13:13:24.032505Z",
     "shell.execute_reply": "2021-08-28T13:13:24.031921Z",
     "shell.execute_reply.started": "2021-08-27T09:32:17.068073Z"
    },
    "papermill": {
     "duration": 0.027036,
     "end_time": "2021-08-28T13:13:24.032647",
     "exception": false,
     "start_time": "2021-08-28T13:13:24.005611",
     "status": "completed"
    },
    "tags": []
   },
   "outputs": [],
   "source": [
    "# study.trials_dataframe()"
   ]
  }
 ],
 "metadata": {
  "kernelspec": {
   "display_name": "Python 3",
   "language": "python",
   "name": "python3"
  },
  "language_info": {
   "codemirror_mode": {
    "name": "ipython",
    "version": 3
   },
   "file_extension": ".py",
   "mimetype": "text/x-python",
   "name": "python",
   "nbconvert_exporter": "python",
   "pygments_lexer": "ipython3",
   "version": "3.7.10"
  },
  "papermill": {
   "default_parameters": {},
   "duration": 18384.960255,
   "end_time": "2021-08-28T13:13:25.653696",
   "environment_variables": {},
   "exception": null,
   "input_path": "__notebook__.ipynb",
   "output_path": "__notebook__.ipynb",
   "parameters": {},
   "start_time": "2021-08-28T08:07:00.693441",
   "version": "2.3.3"
  }
 },
 "nbformat": 4,
 "nbformat_minor": 5
}
